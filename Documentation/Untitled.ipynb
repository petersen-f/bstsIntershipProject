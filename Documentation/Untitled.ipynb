{
 "cells": [
  {
   "cell_type": "markdown",
   "id": "economic-invasion",
   "metadata": {},
   "source": [
    "# Documentation of the development of the bsts JASP module\n",
    "\n",
    "The following document will document the steps that were necessary to develope a JASP module that mirrors the functionality of the bsts package in R. The aim is to make it easier to understand how to develop a module from scratch.\n",
    "\n",
    "The first thing I did was reading up upon the [development workflow](https://github.com/jasp-stats/jasp-desktop/blob/development/Docs/development/jasp-module-workflow.md) and the [Guide to adding a module in JASP](https://github.com/jasp-stats/jasp-desktop/blob/development/Docs/development/jasp-adding-module.md). The documentation here does not serve as a replacement but rather as an illustration of which specific steps to take for a final module. \n",
    "\n",
    "The development workflow documentation provides us with a link to a nice template which I subsequently downloaded. After extracting the template folder from the .zip file I renamed it from `jaspModuleTemplate` to `jaspBsts` for good measure.\n",
    "\n",
    "#### **Description.qml**\n",
    "\n",
    "The [guide](https://github.com/jasp-stats/jasp-desktop/blob/development/Docs/development/jasp-adding-module.md) explains that the first step to developing a module is editing the Description.qml file which is located in the `/inst` folder of the template. It basically tells JASP how to display the display your module in the JASP menu and which analysis function it entails that the user can select from.\n",
    "\n",
    "As our goal is to implement the main functions of the bsts package a single Analysis function will be enough for now. \n",
    "\n",
    "The first part of the qml file describes the title and name of the module as well as a small description including the name of the file for the icon.  \n",
    "  "
   ]
  },
  {
   "cell_type": "markdown",
   "id": "searching-faith",
   "metadata": {},
   "source": [
    "```\n",
    "import QtQuick\t\t2.12\n",
    "import JASP.Module\t1.0\n",
    "\n",
    "Description\n",
    "{\n",
    "\tname\t\t: \"jaspBsts\"\n",
    "\ttitle\t\t: qsTr(\"BSTS\")\n",
    "\tdescription\t: qsTr(\"This module offers a Bayesian take on linear Gaussian state space models suitable for time series analysis.\")\n",
    "\ticon        : \"bsts.svg\"\n",
    "\tversion\t\t: \"0.1\"\n",
    "\tauthor\t\t: \"JASP Team\"\n",
    "\tmaintainer\t: \"JASP Team <info@jasp-stats.org>\"\n",
    "\twebsite\t\t: \"https://jasp-stats.org\"\n",
    "\tlicense\t\t: \"GPL (>= 2)\"\n",
    "```"
   ]
  },
  {
   "cell_type": "markdown",
   "id": "fixed-killing",
   "metadata": {},
   "source": [
    "One **important** thing to note is that the `name:` argument needs to match the one mentioned in the `Description` file that exist one level above. If that doesn't happen the module will not (re)load as the folder name that is produced doesn't match it's actual destination. \n",
    "\n",
    "After having specified all these things we need to include an Analysis section in the Description section. And while it is possible to include seperators and multiple functions we only need a single analysis for now. More specifically we have to specify how it is called and the R funtion and qml file that includes the interface and actual analysis. If our corresponding qml file doesn't have the `func` + .qml as a name we have to specify its name manually via the `qml:` argument."
   ]
  },
  {
   "cell_type": "markdown",
   "id": "inside-three",
   "metadata": {},
   "source": [
    "```\n",
    "\tAnalysis\n",
    "\t{\n",
    "\t    title: \"Bayesian State Space Models\"\n",
    "\t    func:   \"BayesianStateSpace\"\n",
    "\t}\n",
    "} # ending brakets for the Description object\n",
    "```"
   ]
  },
  {
   "cell_type": "markdown",
   "id": "turned-perth",
   "metadata": {},
   "source": [
    "#### **BayesianStateSpace.qml**\n",
    "\n",
    "After double checking that the module is correctly display in JASP and can be selected let's start building a mock interface!\n",
    "For this we need to go into the `/inst/qml` folder, create a text file and replace the ending with .qml. As I didn't specify a specific qml file name in my Description.qml file, it needs to match the `func` name plus an .qml ending: `BayesianStateSpace.qml\n",
    "`\n"
   ]
  }
 ],
 "metadata": {
  "jupytext": {
   "formats": "ipynb,md"
  },
  "kernelspec": {
   "display_name": "R",
   "language": "R",
   "name": "ir"
  },
  "language_info": {
   "codemirror_mode": "r",
   "file_extension": ".r",
   "mimetype": "text/x-r-source",
   "name": "R",
   "pygments_lexer": "r",
   "version": "4.0.3"
  }
 },
 "nbformat": 4,
 "nbformat_minor": 5
}
